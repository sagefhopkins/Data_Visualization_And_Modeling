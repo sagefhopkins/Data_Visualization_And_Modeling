{
 "cells": [
  {
   "cell_type": "markdown",
   "id": "03ba50ef-04a5-4edc-9ef8-747de437c608",
   "metadata": {},
   "source": [
    "# Lab Instructions\n",
    "\n",
    "Find a dataset that interests you. I'd recommend starting on [Kaggle](https://www.kaggle.com/). Read through all of the material about the dataset and download a .CSV file.\n",
    "\n",
    "1. Write a short summary of the data.  Where did it come from?  How was it collected?  What are the features in the data?  Why is this dataset interesting to you?\n",
    "\n",
    "The source of my dataset is Foodpanda, an online food delivery platform. It was published on Kaggle. Data was gathered from Foodpanda's historical records, including customer information, restuarant details, delivery times, ratings, and payment methods. Then it was anonymized and cleaned for research use. This dataset interests me because it gives insight into consumer behavior.\n",
    "\n",
    "* customer_id\n",
    "* gender\n",
    "* age\n",
    "* city\n",
    "* signup_date\n",
    "* order_id\n",
    "* order_date\n",
    "* restaurant_name\n",
    "* dish_name\n",
    "* category\n",
    "* price\n",
    "* payment_method\n",
    "* order_frequency\n",
    "* last_order_date\n",
    "* loyalty_points\n",
    "* churned\n",
    "* rating\n",
    "* rating_date\n",
    "* delivery_status\n",
    "\n",
    "2. Identify 5 interesting questions about your data that you can answer using Pandas methods.\n",
    "\n",
    "* Which restaurants received the highest average ratings?\n",
    "* What is the average order by city?\n",
    "* How do loyalty points differ across age groups?\n",
    "* What are the most popular payment methods among active customers?\n",
    "* What percentage of orders are successfully delivered vs canceled?\n",
    "\n",
    "3. Answer those questions!  You may use any method you want (including LLMs) to help you write your code; however, you should use Pandas to find the answers.  LLMs will not always write code in this way without specific instruction.  \n",
    "\n",
    "4. Write the answer to your question in a text box underneath the code you used to calculate the answer.\n",
    "\n"
   ]
  },
  {
   "cell_type": "code",
   "execution_count": 12,
   "id": "5d57ac5c-c596-4f5e-a6e1-b161ab79ca39",
   "metadata": {},
   "outputs": [],
   "source": [
    "import pandas as pd\n",
    "df = pd.read_csv(\"food_dataset.csv\")"
   ]
  },
  {
   "cell_type": "markdown",
   "id": "9578b651-29e4-4daa-aab1-8cb715691326",
   "metadata": {},
   "source": [
    "The five top rated restaurants are:"
   ]
  },
  {
   "cell_type": "code",
   "execution_count": 20,
   "id": "565e3b6f-d061-467f-b0b2-c1d697cf8d11",
   "metadata": {},
   "outputs": [
    {
     "data": {
      "text/plain": [
       "restaurant_name\n",
       "Subway         3.087302\n",
       "McDonald's     3.002629\n",
       "KFC            2.974673\n",
       "Burger King    2.966116\n",
       "Pizza Hut      2.949346\n",
       "Name: rating, dtype: float64"
      ]
     },
     "execution_count": 20,
     "metadata": {},
     "output_type": "execute_result"
    }
   ],
   "source": [
    "top_restaurants = (df.groupby('restaurant_name')['rating'].mean().sort_values(ascending=False).head(5))\n",
    "top_restaurants"
   ]
  },
  {
   "cell_type": "markdown",
   "id": "ff40f61a-62ae-495b-b031-a6e8410eddc7",
   "metadata": {},
   "source": [
    "The five cities with the largest order amounts are:"
   ]
  },
  {
   "cell_type": "code",
   "execution_count": 21,
   "id": "c1303a07-89aa-43be-9dbd-04461cb8e804",
   "metadata": {},
   "outputs": [
    {
     "data": {
      "text/plain": [
       "city\n",
       "Peshawar     824.361054\n",
       "Multan       803.346871\n",
       "Islamabad    795.089174\n",
       "Lahore       793.004503\n",
       "Karachi      786.180629\n",
       "Name: price, dtype: float64"
      ]
     },
     "execution_count": 21,
     "metadata": {},
     "output_type": "execute_result"
    }
   ],
   "source": [
    "avg_order_value = (df.groupby('city')['price'].mean().sort_values(ascending=False).head(5))\n",
    "avg_order_value"
   ]
  },
  {
   "cell_type": "code",
   "execution_count": 28,
   "id": "1d1f9a80-8e21-43bb-9218-655c320b1abe",
   "metadata": {},
   "outputs": [
    {
     "data": {
      "text/plain": [
       "age\n",
       "Teenager    256.76\n",
       "Adult       247.18\n",
       "Senior      246.26\n",
       "Name: loyalty_points, dtype: float64"
      ]
     },
     "execution_count": 28,
     "metadata": {},
     "output_type": "execute_result"
    }
   ],
   "source": [
    "loyalty_by_age = (df.groupby('age')['loyalty_points'].mean().round(2).sort_values(ascending=False))\n",
    "loyalty_by_age"
   ]
  },
  {
   "cell_type": "markdown",
   "id": "10302400-9776-4bde-a36f-035d193132f7",
   "metadata": {},
   "source": [
    "Teenagers show the highest loyalty"
   ]
  },
  {
   "cell_type": "code",
   "execution_count": 30,
   "id": "794aa06f-174c-4cb5-a0c5-842f733d8700",
   "metadata": {},
   "outputs": [
    {
     "data": {
      "text/plain": [
       "payment_method\n",
       "Card      33.69\n",
       "Cash      33.39\n",
       "Wallet    32.92\n",
       "Name: proportion, dtype: float64"
      ]
     },
     "execution_count": 30,
     "metadata": {},
     "output_type": "execute_result"
    }
   ],
   "source": [
    "active_customers = df[df['churned'] == 'Active']\n",
    "payment_distribution = (active_customers['payment_method'].value_counts(normalize=True)*100).round(2)\n",
    "payment_distribution"
   ]
  },
  {
   "cell_type": "markdown",
   "id": "815fc712-146d-4fac-81c8-8ccae71a2354",
   "metadata": {},
   "source": [
    "Card payments are most popular among active users."
   ]
  },
  {
   "cell_type": "code",
   "execution_count": 31,
   "id": "53c5516b-d1d6-4dfd-80f0-ddb223e6f10e",
   "metadata": {},
   "outputs": [
    {
     "data": {
      "text/plain": [
       "delivery_status\n",
       "Delivered    34.33\n",
       "Delayed      32.87\n",
       "Cancelled    32.80\n",
       "Name: proportion, dtype: float64"
      ]
     },
     "execution_count": 31,
     "metadata": {},
     "output_type": "execute_result"
    }
   ],
   "source": [
    "delivery_status_counts = (df['delivery_status'].value_counts(normalize=True)*100).round(2)\n",
    "delivery_status_counts"
   ]
  },
  {
   "cell_type": "markdown",
   "id": "f887e07a-fe7d-4049-8d65-d7231ddd115b",
   "metadata": {},
   "source": [
    "The majority of deliveries are cancelled or delayed."
   ]
  }
 ],
 "metadata": {
  "kernelspec": {
   "display_name": "Python 3 (ipykernel)",
   "language": "python",
   "name": "python3"
  },
  "language_info": {
   "codemirror_mode": {
    "name": "ipython",
    "version": 3
   },
   "file_extension": ".py",
   "mimetype": "text/x-python",
   "name": "python",
   "nbconvert_exporter": "python",
   "pygments_lexer": "ipython3",
   "version": "3.9.6"
  }
 },
 "nbformat": 4,
 "nbformat_minor": 5
}
